{
 "cells": [
  {
   "cell_type": "code",
   "execution_count": 167,
   "metadata": {},
   "outputs": [],
   "source": [
    "import csv\n",
    "import pandas as pd\n",
    "import nltk\n",
    "import re\n",
    "pd.set_option('display.max_colwidth', -1)"
   ]
  },
  {
   "cell_type": "code",
   "execution_count": 172,
   "metadata": {},
   "outputs": [],
   "source": [
    "actors = ['Laurence','Homme ','Homme1 ','Homme2 ','Homme3 ','Homme4 ','Homme5 ','Femme ','Femme1 ']\n",
    "\n",
    "with open('combined_Enregistrement_BUDATA.txt','r') as f:\n",
    "      l = f.readlines()"
   ]
  },
  {
   "cell_type": "code",
   "execution_count": 173,
   "metadata": {},
   "outputs": [],
   "source": [
    "for line in l:\n",
    "    words = line.strip().split(' ')\n",
    "    \n",
    "for i in range(0, len(words)):\n",
    "    try:\n",
    "         if words[i] == 'Homme' and words[i+1] == '1':\n",
    "                words[i:i+2] = [''.join(words[i:i+2])]\n",
    "         \n",
    "         elif words[i] == 'Homme' and words[i+1] == '2':\n",
    "                words[i:i+2] = [''.join(words[i:i+2])]\n",
    "         \n",
    "         elif words[i] == 'Homme' and words[i+1] == '3':\n",
    "            words[i:i+2] = [''.join(words[i:i+2])]\n",
    "        \n",
    "         elif words[i] == 'Homme' and words[i+1] == '4':\n",
    "            words[i:i+2] = [''.join(words[i:i+2])]\n",
    "         \n",
    "         elif words[i] == 'Homme' and words[i+1] == '5':\n",
    "            words[i:i+2] = [''.join(words[i:i+2])]\n",
    "        \n",
    "         elif words[i] == 'Femme' and words[i+1] == '1':\n",
    "            words[i:i+2] = [''.join(words[i:i+2])]\n",
    "            \n",
    "    except IndexError:\n",
    "        pass\n",
    "    \n",
    "  "
   ]
  },
  {
   "cell_type": "code",
   "execution_count": 174,
   "metadata": {},
   "outputs": [],
   "source": [
    "text = ' '.join(words) \n",
    "dialogue = re.split(r'.(?=Laurence |Homme |Homme1 |Homme2 |Homme3 |Homme4 |Homme5 |Femme |Femme1 )', text)"
   ]
  },
  {
   "cell_type": "code",
   "execution_count": 175,
   "metadata": {},
   "outputs": [],
   "source": [
    "df = pd.DataFrame(dialogue,columns = ['paroles'])\n",
    "df['acteurs'] = df.paroles.str.extract('({})'.format('|'.join(actors)),flags=re.IGNORECASE, expand=False).fillna('')\n",
    "df['paroles'] = df.paroles.str.replace('Laurence |Homme |Homme1 |Homme2 |Homme3 |Homme4 |Homme5 |Femme |Femme1','')\n",
    "df = df[['acteurs','paroles']]"
   ]
  },
  {
   "cell_type": "code",
   "execution_count": null,
   "metadata": {
    "scrolled": true
   },
   "outputs": [],
   "source": [
    "df[df.acteurs =='Laurence']"
   ]
  }
 ],
 "metadata": {
  "kernelspec": {
   "display_name": "Python 3",
   "language": "python",
   "name": "python3"
  },
  "language_info": {
   "codemirror_mode": {
    "name": "ipython",
    "version": 3
   },
   "file_extension": ".py",
   "mimetype": "text/x-python",
   "name": "python",
   "nbconvert_exporter": "python",
   "pygments_lexer": "ipython3",
   "version": "3.7.3"
  }
 },
 "nbformat": 4,
 "nbformat_minor": 4
}
